{
 "cells": [
  {
   "cell_type": "markdown",
   "metadata": {},
   "source": [
    "# Importing supporting libraries"
   ]
  },
  {
   "cell_type": "code",
   "execution_count": 2,
   "metadata": {},
   "outputs": [
    {
     "name": "stdout",
     "output_type": "stream",
     "text": [
      "CPU times: total: 766 ms\n",
      "Wall time: 10.1 s\n"
     ]
    }
   ],
   "source": [
    "%%time\n",
    "from langchain_groq import ChatGroq\n",
    "from langchain.prompts import PromptTemplate\n",
    "from langchain.utilities import SQLDatabase\n",
    "from langchain_core.output_parsers import StrOutputParser\n",
    "from langchain_core.runnables import RunnablePassthrough\n",
    "from sqlalchemy import create_engine, text\n",
    "import os\n",
    "from dotenv import load_dotenv\n",
    "\n",
    "import pandas as pd\n",
    "import pprint"
   ]
  },
  {
   "cell_type": "markdown",
   "metadata": {},
   "source": [
    "# Connecting Local SQL Server"
   ]
  },
  {
   "cell_type": "code",
   "execution_count": null,
   "metadata": {},
   "outputs": [
    {
     "name": "stdout",
     "output_type": "stream",
     "text": [
      "Connection successful!\n"
     ]
    }
   ],
   "source": [
    "engine = create_engine(\n",
    "        \"mssql+pyodbc://<<System Name>>\\\\SQLEXPRESS/<<DB Name>>?\"\n",
    "        \"driver=ODBC+Driver+17+for+SQL+Server\"\n",
    "        \"&autocommit=true\"\n",
    "        \"&trusted_connection=yes\"\n",
    "        \"&echo=False\"\n",
    "        \"&fast_executemany=True\"\n",
    "    )\n",
    "\n",
    "# Check if the connection is successful\n",
    "if engine.connect():\n",
    "    print(\"Connection successful!\")\n",
    "else:\n",
    "    print(\"Connection failed.\")"
   ]
  },
  {
   "cell_type": "markdown",
   "metadata": {},
   "source": [
    "## Get database schema"
   ]
  },
  {
   "cell_type": "code",
   "execution_count": 4,
   "metadata": {},
   "outputs": [
    {
     "name": "stdout",
     "output_type": "stream",
     "text": [
      "Database Schema:\n",
      "\n",
      "Table: Employee\n",
      "- Employee_Id (varchar)\n",
      "- Employee_Name (varchar)\n",
      "- Group_Name (varchar)\n",
      "- Manager_Id (varchar)\n",
      "- Manager_Name (varchar)\n",
      "\n"
     ]
    }
   ],
   "source": [
    "def get_schema(table_list: list):\n",
    "       \n",
    "    # Query to get table and column information\n",
    "    table_name = ', '.join(f\"'{name}'\" for name in table_list)\n",
    "\n",
    "    schema_query = f\"\"\"\n",
    "    SELECT \n",
    "        t.name AS table_name,\n",
    "        c.name AS column_name,\n",
    "        ty.name AS data_type\n",
    "    FROM sys.tables t\n",
    "    INNER JOIN sys.columns c ON t.object_id = c.object_id\n",
    "    INNER JOIN sys.types ty ON c.user_type_id = ty.user_type_id\n",
    "    where t.name in ({table_name})\n",
    "    ORDER BY t.name, c.column_id\n",
    "    \"\"\"\n",
    "    \n",
    "    with engine.connect() as conn:\n",
    "        result = conn.execute(text(schema_query))  # Execute query\n",
    "        schema_info = result.fetchall()  # Fetch all rows\n",
    "    \n",
    "    # Format schema information\n",
    "    schema_text = \"Database Schema:\\n\"\n",
    "    current_table = \"\"\n",
    "    \n",
    "    for table, column, data_type in schema_info:\n",
    "        if table != current_table:\n",
    "            schema_text += f\"\\nTable: {table}\\n\"\n",
    "            current_table = table\n",
    "        schema_text += f\"- {column} ({data_type})\\n\"\n",
    "    \n",
    "    conn.close()\n",
    "    \n",
    "    return schema_text\n",
    "\n",
    "schema_text = get_schema(table_list = ['Employee'])\n",
    "print(schema_text)"
   ]
  },
  {
   "cell_type": "markdown",
   "metadata": {},
   "source": [
    "# Connecting with GROQ API"
   ]
  },
  {
   "cell_type": "code",
   "execution_count": 12,
   "metadata": {},
   "outputs": [],
   "source": [
    "llm = ChatGroq(\n",
    "    groq_api_key = os.getenv('groq_api_key'),\n",
    "    model_name=\"mixtral-8x7b-32768\" , # You can also use \"llama2-70b-4096\"\n",
    ")"
   ]
  },
  {
   "cell_type": "markdown",
   "metadata": {},
   "source": [
    "# Create prompt template"
   ]
  },
  {
   "cell_type": "code",
   "execution_count": 6,
   "metadata": {},
   "outputs": [],
   "source": [
    "user_query = \"How many employees are there in the organization?\""
   ]
  },
  {
   "cell_type": "code",
   "execution_count": 7,
   "metadata": {},
   "outputs": [
    {
     "name": "stdout",
     "output_type": "stream",
     "text": [
      "\n",
      "You are a SQL expert. Based on the following database schema and natural language query,\n",
      "generate a SQL query that answers the question.\n",
      "\n",
      "Database Schema:\n",
      "\n",
      "Table: Employee\n",
      "- Employee_Id (varchar)\n",
      "- Employee_Name (varchar)\n",
      "- Group_Name (varchar)\n",
      "- Manager_Id (varchar)\n",
      "- Manager_Name (varchar)\n",
      "\n",
      "\n",
      "Natural Language Query: How many employees are there in the organization?\n",
      "\n",
      "Generate only the SQL query without any explanation or additional text.\n",
      "The query should be compatible with Microsoft SQL Server.\n",
      "\n"
     ]
    }
   ],
   "source": [
    "prompt = PromptTemplate.from_template(f\"\"\"\n",
    "You are a SQL expert. Based on the following database schema and natural language query,\n",
    "generate a SQL query that answers the question.\n",
    "\n",
    "{schema_text}\n",
    "\n",
    "Natural Language Query: {user_query}\n",
    "\n",
    "Generate only the SQL query without any explanation or additional text.\n",
    "The query should be compatible with Microsoft SQL Server.\n",
    "\"\"\")\n",
    "\n",
    "print(prompt.template)\n"
   ]
  },
  {
   "cell_type": "code",
   "execution_count": 10,
   "metadata": {},
   "outputs": [],
   "source": [
    "def process_natural_language_query(nl_query):\n",
    "    try:\n",
    "        # Get database schema\n",
    "        schema = get_schema(table_list = ['Employee'])\n",
    "        \n",
    "        # Generate SQL query using the new chain syntax\n",
    "        sql_query = chain.invoke({\n",
    "            \"schema\": schema,\n",
    "            \"query\": nl_query\n",
    "        })\n",
    "        \n",
    "        print(\"Generated SQL Query:\")\n",
    "        print(sql_query)\n",
    "        \n",
    "        # Execute the query\n",
    "        results = pd.read_sql(sql_query,con=engine)\n",
    "        \n",
    "        return {\n",
    "            \"sql_query\": sql_query,\n",
    "            \"results\": results\n",
    "        }\n",
    "        \n",
    "    except Exception as e:\n",
    "        import traceback\n",
    "        print(f\"Full error traceback:\\n{traceback.format_exc()}\")\n",
    "        return f\"Error processing query: {str(e)}\""
   ]
  },
  {
   "cell_type": "code",
   "execution_count": null,
   "metadata": {},
   "outputs": [],
   "source": [
    "nl_query = \"How many employees are there in the organization?\"\n",
    "    \n",
    "# Process the query\n",
    "result = process_natural_language_query(nl_query)\n",
    "print(\"\\nResults:\")\n",
    "print(result)"
   ]
  },
  {
   "cell_type": "code",
   "execution_count": null,
   "metadata": {},
   "outputs": [],
   "source": [
    "import ssl\n",
    "ssl._create_default_https_context = ssl._create_unverified_context\n",
    "\n",
    "# Create the chain using the new syntax\n",
    "chain = ({\"schema\": RunnablePassthrough(),\"query\": RunnablePassthrough()}\n",
    "    | prompt\n",
    "    | llm\n",
    "    | StrOutputParser()\n",
    ")\n",
    "\n",
    "sql_query = chain.invoke({\n",
    "            \"schema\": schema_text,\n",
    "            \"query\": user_query\n",
    "        })"
   ]
  },
  {
   "cell_type": "code",
   "execution_count": null,
   "metadata": {},
   "outputs": [],
   "source": [
    "import requests\n",
    "groq_api_key = ''\n",
    "api_key = os.getenv(\"groq_api_key\")\n",
    "headers = {\"Authorization\": f\"Bearer {api_key}\"}\n",
    "response = requests.get(\"https://api.groq.com/v1/models\", headers=headers, verify=False)  # Try verify=True first\n",
    "print(response.json())  # Should return available models"
   ]
  }
 ],
 "metadata": {
  "kernelspec": {
   "display_name": ".venv",
   "language": "python",
   "name": "python3"
  },
  "language_info": {
   "codemirror_mode": {
    "name": "ipython",
    "version": 3
   },
   "file_extension": ".py",
   "mimetype": "text/x-python",
   "name": "python",
   "nbconvert_exporter": "python",
   "pygments_lexer": "ipython3",
   "version": "3.12.4"
  }
 },
 "nbformat": 4,
 "nbformat_minor": 2
}
